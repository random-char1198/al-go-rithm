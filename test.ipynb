{
 "cells": [
  {
   "cell_type": "code",
   "execution_count": 14,
   "metadata": {
    "collapsed": true,
    "pycharm": {
     "name": "#%%\n"
    }
   },
   "outputs": [
    {
     "name": "stdout",
     "output_type": "stream",
     "text": [
      "[1, 2, 3, 4, 6]\n",
      "1\n"
     ]
    }
   ],
   "source": [
    "arr = [4,2,1,6,3]\n",
    "arr = sorted(arr)\n",
    "min_diff = 10000\n",
    "for i in range(len(arr)):\n",
    "    for j in range(i+1,len(arr)):\n",
    "        min_diff = min(min_diff,abs(arr[i] - arr[j]))\n",
    "print(arr)\n",
    "print(min_diff)"
   ]
  },
  {
   "cell_type": "code",
   "execution_count": null,
   "outputs": [],
   "source": [
    "# Definition for a binary tree node.\n",
    "# class TreeNode:\n",
    "#     def __init__(self, val=0, left=None, right=None):\n",
    "#         self.val = val\n",
    "#         self.left = left\n",
    "#         self.right = right\n",
    "class Solution:\n",
    "    # 中序遍历\n",
    "    def inOrder(self, root: TreeNode, res):\n",
    "        if root == None:\n",
    "            return\n",
    "        self.inOrder(root.left, res)\n",
    "        res.append(root.val)\n",
    "        self.inOrder(root.right, res)\n",
    "\n",
    "    def getMinimumDifference(self, root: TreeNode) -> int:\n",
    "        res = []\n",
    "        minRes = float('inf')\n",
    "        self.inOrder(root, res)\n",
    "        # 求最小绝对差\n",
    "        for i in range(len(res) - 1):\n",
    "            minRes = min(abs(res[i] - res[i + 1]), minRes)\n",
    "\n",
    "        return minRes\n",
    "\n"
   ],
   "metadata": {
    "collapsed": false,
    "pycharm": {
     "name": "#%%\n"
    }
   }
  }
 ],
 "metadata": {
  "kernelspec": {
   "display_name": "Python 3",
   "language": "python",
   "name": "python3"
  },
  "language_info": {
   "codemirror_mode": {
    "name": "ipython",
    "version": 2
   },
   "file_extension": ".py",
   "mimetype": "text/x-python",
   "name": "python",
   "nbconvert_exporter": "python",
   "pygments_lexer": "ipython2",
   "version": "2.7.6"
  }
 },
 "nbformat": 4,
 "nbformat_minor": 0
}