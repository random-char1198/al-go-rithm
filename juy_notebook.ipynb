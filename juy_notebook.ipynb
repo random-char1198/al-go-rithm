{
 "cells": [
  {
   "cell_type": "code",
   "execution_count": 39,
   "outputs": [
    {
     "name": "stdout",
     "output_type": "stream",
     "text": [
      "[65, 70]\n"
     ]
    },
    {
     "data": {
      "text/plain": "['A1', 'B1', 'C1', 'D1', 'E1', 'F1']"
     },
     "execution_count": 39,
     "metadata": {},
     "output_type": "execute_result"
    }
   ],
   "source": [
    "class Solution:\n",
    "    def cellsInRange(self, s: str):\n",
    "        # 75:1-76:2\n",
    "        # print(s[0])\n",
    "        # print(s[3])\n",
    "        res = []\n",
    "        i_range = abs(ord(s[0]) - ord(s[3]))\n",
    "        j_range = abs(ord(s[1]) - ord(s[4]))\n",
    "        i_words = [ord(s[0]),ord(s[3])]\n",
    "        print(i_words)\n",
    "        for i in range(ord(s[0]),ord(s[3])+1):\n",
    "            for j in range(int(s[1]),int(s[4])+1):\n",
    "                # print(i,j)\n",
    "                res.append(chr(i)+str(j))\n",
    "                # print(chr(i)+str(j+1))\n",
    "        # for i in range(0,abs(ord(s[0]) - ord[s[3]])):\n",
    "        #     print(i)\n",
    "        # print(res)\n",
    "        return res\n",
    "solution = Solution()\n",
    "solution.cellsInRange('A1:F1')\n",
    "# solution.cellsInRange(\"U7:X9\")"
   ],
   "metadata": {
    "collapsed": false,
    "pycharm": {
     "name": "#%%\n"
    }
   }
  },
  {
   "cell_type": "code",
   "execution_count": 1,
   "outputs": [
    {
     "name": "stdout",
     "output_type": "stream",
     "text": [
      "defaultdict(None, {1: 1, 2: 2, 4: 1})\n"
     ]
    }
   ],
   "source": [],
   "metadata": {
    "collapsed": false,
    "pycharm": {
     "name": "#%%\n"
    }
   }
  },
  {
   "cell_type": "code",
   "execution_count": 1,
   "outputs": [
    {
     "name": "stdout",
     "output_type": "stream",
     "text": [
      "1 2\n",
      "2 3\n",
      "3 4\n"
     ]
    }
   ],
   "source": [
    "from collections import defaultdict\n",
    "# how to iterate a default dic?\n",
    "dic = defaultdict()\n",
    "dic[1] = 2\n",
    "dic[2] = 3\n",
    "dic[3] = 4\n",
    "for k,v in dic.items():\n",
    "    print(k,v)\n"
   ],
   "metadata": {
    "collapsed": false,
    "pycharm": {
     "name": "#%%\n"
    }
   }
  },
  {
   "cell_type": "code",
   "execution_count": 46,
   "outputs": [
    {
     "name": "stdout",
     "output_type": "stream",
     "text": [
      "123456\n",
      "123-456\n"
     ]
    }
   ],
   "source": [
    "a = \"123456\"\n",
    "res = \"\"\n",
    "for i in range(0,len(a),3):\n",
    "    if len(a[i:]) <= 4:\n",
    "        if len(a[i:]) == 4:\n",
    "            print(a[i+2:])\n",
    "            res += a[i:i+2]\n",
    "            res += \"-\"\n",
    "            res += a[i+2:]\n",
    "            print(a[i:i+2])\n",
    "        elif len(a[i:]) == 3:\n",
    "            res += a[i:i+3]\n",
    "        elif len(a[i:]) == 2:\n",
    "            res += a[i:i+2]\n",
    "        else:\n",
    "            print(\"weird happened\")\n",
    "    else:\n",
    "        if i + 3 == len(a):\n",
    "            res += a[i:i+3]\n",
    "        else:\n",
    "            res += a[i:i+3]\n",
    "            res += '-'\n",
    "\n",
    "print(a[0:])\n",
    "print(res)"
   ],
   "metadata": {
    "collapsed": false,
    "pycharm": {
     "name": "#%%\n"
    }
   }
  },
  {
   "cell_type": "code",
   "execution_count": 72,
   "outputs": [
    {
     "name": "stdout",
     "output_type": "stream",
     "text": [
      "{1: 'I', 4: 'IV', 5: 'V', 9: 'IX', 10: 'X', 40: 'XL', 50: 'L', 90: 'XC', 100: 'C', 400: 'CD', 500: 'D', 900: 'CM', 1000: 'M'}\n",
      "MCMXCIV\n"
     ]
    }
   ],
   "source": [
    "def intToRoman(num:int):\n",
    "    d = {1:'I',4:'IV',5:'V', 9:'IX', 10:'X', 40:'XL',50:'L',90:'XC',100:'C',400:'CD',500:'D',900:'CM',1000:'M'}\n",
    "    print(d)\n",
    "    res = ''\n",
    "    for key, value in reversed(d.items()):\n",
    "        while num >= key:\n",
    "            num -= key\n",
    "            res += value\n",
    "    return res\n",
    "\n",
    "print(intToRoman(1994))"
   ],
   "metadata": {
    "collapsed": false,
    "pycharm": {
     "name": "#%%\n"
    }
   }
  }
 ],
 "metadata": {
  "kernelspec": {
   "display_name": "Python 3",
   "language": "python",
   "name": "python3"
  },
  "language_info": {
   "codemirror_mode": {
    "name": "ipython",
    "version": 2
   },
   "file_extension": ".py",
   "mimetype": "text/x-python",
   "name": "python",
   "nbconvert_exporter": "python",
   "pygments_lexer": "ipython2",
   "version": "2.7.6"
  }
 },
 "nbformat": 4,
 "nbformat_minor": 0
}